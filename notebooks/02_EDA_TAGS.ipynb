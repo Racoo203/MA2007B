{
 "cells": [
  {
   "cell_type": "code",
   "execution_count": 1,
   "metadata": {},
   "outputs": [],
   "source": [
    "import pandas as pd"
   ]
  },
  {
   "cell_type": "code",
   "execution_count": 2,
   "metadata": {},
   "outputs": [],
   "source": [
    "import warnings\n",
    "\n",
    "warnings.filterwarnings('ignore')"
   ]
  },
  {
   "cell_type": "markdown",
   "metadata": {},
   "source": [
    "# Data Loading"
   ]
  },
  {
   "cell_type": "code",
   "execution_count": 3,
   "metadata": {},
   "outputs": [],
   "source": [
    "# Paths\n",
    "edenred_2024 = f'../data/raw/Consolidado Edenred 2024.xlsx'\n",
    "edenred_2023 = f'../data/raw/Edenred Consolidado Diciembre 2023.xlsx'\n",
    "edenred_2022 = f'../data/raw/Edenred Consolidado 2022.xlsx'\n",
    "edenred_2021 = f'../data/raw/Edenred Fuel Consumption Consolidation 2021.xlsx'\n",
    "consumo_tags_formato = f'../data/raw/Consumo en Tag 22 23 24_formato.xlsx'"
   ]
  },
  {
   "cell_type": "code",
   "execution_count": 4,
   "metadata": {},
   "outputs": [],
   "source": [
    "edenred_xlsx_24 = pd.ExcelFile(edenred_2024)\n",
    "edenred_xlsx_23 = pd.ExcelFile(edenred_2023)\n",
    "edenred_xlsx_22 = pd.ExcelFile(edenred_2022)\n",
    "edenred_xlsx_21 = pd.ExcelFile(edenred_2021)\n",
    "\n",
    "edenred_xlsx = [edenred_xlsx_21, edenred_xlsx_22, edenred_xlsx_23, edenred_xlsx_24]\n",
    "\n",
    "tag_xlsx_22_24 = pd.ExcelFile(consumo_tags_formato)"
   ]
  },
  {
   "cell_type": "code",
   "execution_count": 5,
   "metadata": {},
   "outputs": [
    {
     "name": "stdout",
     "output_type": "stream",
     "text": [
      "2021:  ['Detalle de Movimientos por Fact', 'Sheet2', 'Sheet1']\n",
      "2022:  ['Detalle de Movimientos por Fact', 'Sheet1']\n",
      "2023:  ['Detalle de Movimientos ']\n",
      "2024:  ['Sheet1', 'Sheet10', 'Sheet12', 'Sheet13', 'Detalle de Movimientos 2024']\n"
     ]
    }
   ],
   "source": [
    "for i, edenred in enumerate(edenred_xlsx):\n",
    "    print(f'202{i+1}: ', edenred.sheet_names)"
   ]
  },
  {
   "cell_type": "code",
   "execution_count": 6,
   "metadata": {},
   "outputs": [],
   "source": [
    "edenred_df_24 = edenred_xlsx_24.parse('Detalle de Movimientos 2024')\n",
    "edenred_df_23 = edenred_xlsx_23.parse('Detalle de Movimientos ')\n",
    "edenred_df_22 = edenred_xlsx_22.parse('Detalle de Movimientos por Fact')\n",
    "edenred_df_21 = edenred_xlsx_21.parse('Detalle de Movimientos por Fact')\n",
    "\n",
    "edenred_df_list = [edenred_df_21, edenred_df_22, edenred_df_23, edenred_df_24]"
   ]
  },
  {
   "cell_type": "markdown",
   "metadata": {},
   "source": [
    "# EDA"
   ]
  },
  {
   "cell_type": "code",
   "execution_count": 7,
   "metadata": {},
   "outputs": [
    {
     "name": "stdout",
     "output_type": "stream",
     "text": [
      "<class 'pandas.core.frame.DataFrame'>\n",
      "RangeIndex: 13542 entries, 0 to 13541\n",
      "Data columns (total 54 columns):\n",
      " #   Column                  Non-Null Count  Dtype  \n",
      "---  ------                  --------------  -----  \n",
      " 0   Month                   13542 non-null  object \n",
      " 1   Id Grupo Región         13542 non-null  object \n",
      " 2   Locacion                13542 non-null  object \n",
      " 3   Cliente                 13542 non-null  object \n",
      " 4   Factura                 13542 non-null  object \n",
      " 5   Id Región               13542 non-null  object \n",
      " 6   Serie                   13542 non-null  object \n",
      " 7   No. Economico           13542 non-null  object \n",
      " 8   Division                13542 non-null  object \n",
      " 9   BL                      13542 non-null  object \n",
      " 10  Sub BL                  13542 non-null  object \n",
      " 11  Old BL                  13542 non-null  object \n",
      " 12  AU                      13542 non-null  object \n",
      " 13  AC                      13542 non-null  object \n",
      " 14  CONCATENATE             13542 non-null  object \n",
      " 15  VALID                   13542 non-null  object \n",
      " 16  Identificador Vehículo  13542 non-null  object \n",
      " 17  Vehículo                13542 non-null  object \n",
      " 18  Placa                   13542 non-null  object \n",
      " 19  Num Tarjeta             13542 non-null  int64  \n",
      " 20  Num Serie               13542 non-null  object \n",
      " 21  Fecha Transacción       13542 non-null  object \n",
      " 22  Hora Transacción        13542 non-null  object \n",
      " 23  No Comprobante          13542 non-null  int64  \n",
      " 24  Id Mercancía            13542 non-null  int64  \n",
      " 25  Mercancía               13542 non-null  object \n",
      " 26  Km Ant Transacción      13200 non-null  float64\n",
      " 27  Km Transacción          13541 non-null  float64\n",
      " 28  Recorrido               13199 non-null  float64\n",
      " 29  Importe Neto            13542 non-null  float64\n",
      " 30  IVA                     13542 non-null  float64\n",
      " 31  IVA %                   13542 non-null  int64  \n",
      " 32  IEPS                    13542 non-null  float64\n",
      " 33  Importe Transacción     13542 non-null  float64\n",
      " 34  Serie.1                 13542 non-null  object \n",
      " 35  Comision                13542 non-null  float64\n",
      " 36  Subtotal                13542 non-null  float64\n",
      " 37  Cantidad Mercancía      13542 non-null  float64\n",
      " 38  KG C02                  13542 non-null  float64\n",
      " 39  TON C02                 13542 non-null  float64\n",
      " 40  Arboles                 13542 non-null  float64\n",
      " 41  Precio Unitario         13542 non-null  float64\n",
      " 42  Rendimiento             13542 non-null  float64\n",
      " 43  Rendimiento Real        13542 non-null  float64\n",
      " 44  Id Conductor            7159 non-null   float64\n",
      " 45  Conductor               13522 non-null  object \n",
      " 46  No Estación Pemex       13542 non-null  int64  \n",
      " 47  Razón Social Afiliado   13542 non-null  object \n",
      " 48  RFC                     13542 non-null  object \n",
      " 49  Número de Control       13542 non-null  int64  \n",
      " 50  Folio                   13542 non-null  int64  \n",
      " 51  Observación             12432 non-null  object \n",
      " 52  Respuesta               13542 non-null  object \n",
      " 53  Estado de Carga         13542 non-null  object \n",
      "dtypes: float64(17), int64(7), object(30)\n",
      "memory usage: 5.6+ MB\n"
     ]
    }
   ],
   "source": [
    "edenred_df_21.info()"
   ]
  },
  {
   "cell_type": "code",
   "execution_count": 8,
   "metadata": {},
   "outputs": [
    {
     "name": "stdout",
     "output_type": "stream",
     "text": [
      "<class 'pandas.core.frame.DataFrame'>\n",
      "RangeIndex: 12804 entries, 0 to 12803\n",
      "Data columns (total 53 columns):\n",
      " #   Column                  Non-Null Count  Dtype  \n",
      "---  ------                  --------------  -----  \n",
      " 0   Month                   12804 non-null  object \n",
      " 1   Id Grupo Región         12804 non-null  object \n",
      " 2   Grupo de Región         12804 non-null  object \n",
      " 3   Cliente                 12804 non-null  object \n",
      " 4   Factura                 12804 non-null  object \n",
      " 5   PO                      12804 non-null  object \n",
      " 6   GR                      12804 non-null  object \n",
      " 7   Id Región               12804 non-null  object \n",
      " 8   Serie                   12804 non-null  object \n",
      " 9   No Economico            12804 non-null  object \n",
      " 10  Division                12804 non-null  object \n",
      " 11  BL                      12804 non-null  object \n",
      " 12  BL 2                    12804 non-null  object \n",
      " 13  SUB BL                  12804 non-null  object \n",
      " 14  CC                      12804 non-null  object \n",
      " 15  Identificador Vehículo  12804 non-null  object \n",
      " 16  Vehículo                12804 non-null  object \n",
      " 17  VIN Number              12804 non-null  object \n",
      " 18  Placa                   12804 non-null  object \n",
      " 19  Num Tarjeta             12804 non-null  int64  \n",
      " 20  Num Serie               12804 non-null  object \n",
      " 21  Fecha Transacción       12804 non-null  object \n",
      " 22  Hora Transacción        12804 non-null  object \n",
      " 23  No Comprobante          12804 non-null  int64  \n",
      " 24  Id Mercancía            12804 non-null  int64  \n",
      " 25  Mercancía               12804 non-null  object \n",
      " 26  Km Ant Transacción      12721 non-null  float64\n",
      " 27  Km Transacción          12804 non-null  int64  \n",
      " 28  Recorrido               12721 non-null  float64\n",
      " 29  Importe Neto            12804 non-null  float64\n",
      " 30  IVA                     12804 non-null  float64\n",
      " 31  IVA %                   12804 non-null  int64  \n",
      " 32  IEPS                    12804 non-null  float64\n",
      " 33  Importe Transacción     12804 non-null  float64\n",
      " 34  Comision                12804 non-null  float64\n",
      " 35  Subtotal                12804 non-null  float64\n",
      " 36  Cantidad Mercancía      12804 non-null  float64\n",
      " 37  KG C02                  12496 non-null  float64\n",
      " 38  TON C02                 12722 non-null  float64\n",
      " 39  Arboles                 12722 non-null  float64\n",
      " 40  Precio Unitario         12804 non-null  float64\n",
      " 41  Rendimiento             12804 non-null  float64\n",
      " 42  Rendimiento Real        12804 non-null  float64\n",
      " 43  Id Conductor            12803 non-null  float64\n",
      " 44  Conductor               12804 non-null  object \n",
      " 45  No Estación Pemex       12804 non-null  object \n",
      " 46  Razón Social Afiliado   12804 non-null  object \n",
      " 47  RFC                     12804 non-null  object \n",
      " 48  Número de Control       12804 non-null  object \n",
      " 49  Folio                   12804 non-null  int64  \n",
      " 50  Observación             11741 non-null  object \n",
      " 51  Respuesta               12768 non-null  object \n",
      " 52  Estado                  12804 non-null  object \n",
      "dtypes: float64(16), int64(6), object(31)\n",
      "memory usage: 5.2+ MB\n"
     ]
    }
   ],
   "source": [
    "edenred_df_22.info()"
   ]
  },
  {
   "cell_type": "code",
   "execution_count": 9,
   "metadata": {},
   "outputs": [
    {
     "name": "stdout",
     "output_type": "stream",
     "text": [
      "<class 'pandas.core.frame.DataFrame'>\n",
      "RangeIndex: 13487 entries, 0 to 13486\n",
      "Data columns (total 53 columns):\n",
      " #   Column                  Non-Null Count  Dtype  \n",
      "---  ------                  --------------  -----  \n",
      " 0   Month                   13487 non-null  object \n",
      " 1   Id Grupo Región         13487 non-null  object \n",
      " 2   Grupo de Región         13487 non-null  object \n",
      " 3   Cliente                 13487 non-null  object \n",
      " 4   Factura                 13487 non-null  object \n",
      " 5   PO                      13487 non-null  int64  \n",
      " 6   GR                      12354 non-null  object \n",
      " 7   Id Región               13487 non-null  object \n",
      " 8   Serie                   13487 non-null  object \n",
      " 9   No Economico            13483 non-null  object \n",
      " 10  Division                13487 non-null  object \n",
      " 11  BL                      13487 non-null  object \n",
      " 12  BL2                     13487 non-null  object \n",
      " 13  SUB BL                  13487 non-null  object \n",
      " 14  CC                      13487 non-null  object \n",
      " 15  Identificador Vehículo  13487 non-null  object \n",
      " 16  Vehículo                13487 non-null  object \n",
      " 17  VIN NUMBER              13487 non-null  object \n",
      " 18  Placa                   13487 non-null  object \n",
      " 19  Num Tarjeta             13487 non-null  int64  \n",
      " 20  Num Serie               13487 non-null  object \n",
      " 21  Fecha Transacción       13487 non-null  object \n",
      " 22  Hora Transacción        13487 non-null  object \n",
      " 23  No Comprobante          13487 non-null  int64  \n",
      " 24  Id Mercancía            13487 non-null  int64  \n",
      " 25  Mercancía               13487 non-null  object \n",
      " 26  Km Ant Transacción      13422 non-null  float64\n",
      " 27  Km Transacción          13485 non-null  float64\n",
      " 28  Recorrido               13421 non-null  float64\n",
      " 29  Importe Neto            13487 non-null  float64\n",
      " 30  IVA                     149 non-null    float64\n",
      " 31  IVA %                   13487 non-null  int64  \n",
      " 32  IEPS                    13487 non-null  float64\n",
      " 33  Importe Transacción     13487 non-null  float64\n",
      " 34  Comision                13487 non-null  float64\n",
      " 35  Subtotal                13487 non-null  float64\n",
      " 36  Cantidad Mercancía      13487 non-null  float64\n",
      " 37  KG C02                  13487 non-null  float64\n",
      " 38  TON C02                 13487 non-null  float64\n",
      " 39  Arboles                 13487 non-null  float64\n",
      " 40  Precio Unitario         13487 non-null  float64\n",
      " 41  Rendimiento             13487 non-null  int64  \n",
      " 42  Rendimiento Real        13487 non-null  float64\n",
      " 43  Id Conductor            13486 non-null  float64\n",
      " 44  Conductor               13487 non-null  object \n",
      " 45  No Estación Pemex       13487 non-null  int64  \n",
      " 46  Razón Social Afiliado   13487 non-null  object \n",
      " 47  RFC                     13487 non-null  object \n",
      " 48  Número de Control       13487 non-null  int64  \n",
      " 49  Folio                   13487 non-null  int64  \n",
      " 50  Observación             12040 non-null  object \n",
      " 51  Respuesta               13487 non-null  object \n",
      " 52  Estado                  13487 non-null  object \n",
      "dtypes: float64(16), int64(9), object(28)\n",
      "memory usage: 5.5+ MB\n"
     ]
    }
   ],
   "source": [
    "edenred_df_23.info()"
   ]
  },
  {
   "cell_type": "code",
   "execution_count": 10,
   "metadata": {},
   "outputs": [
    {
     "name": "stdout",
     "output_type": "stream",
     "text": [
      "<class 'pandas.core.frame.DataFrame'>\n",
      "RangeIndex: 8936 entries, 0 to 8935\n",
      "Data columns (total 54 columns):\n",
      " #   Column                  Non-Null Count  Dtype         \n",
      "---  ------                  --------------  -----         \n",
      " 0   Month                   8936 non-null   datetime64[ns]\n",
      " 1   Id Grupo Región         8931 non-null   object        \n",
      " 2   Grupo de Región         8936 non-null   object        \n",
      " 3   Cliente                 8936 non-null   object        \n",
      " 4   Factura                 8936 non-null   object        \n",
      " 5   PO                      8936 non-null   object        \n",
      " 6   GR                      7017 non-null   object        \n",
      " 7   Id Región               8931 non-null   object        \n",
      " 8   Serie                   8936 non-null   object        \n",
      " 9   No Economico            8932 non-null   object        \n",
      " 10  Division                8936 non-null   object        \n",
      " 11  BL                      8936 non-null   object        \n",
      " 12  BL2                     8936 non-null   object        \n",
      " 13  SUB BL                  8936 non-null   object        \n",
      " 14  CC                      8936 non-null   object        \n",
      " 15  Identificador Vehículo  8936 non-null   object        \n",
      " 16  Vehículo                8936 non-null   object        \n",
      " 17  VIN NUMBER              8936 non-null   object        \n",
      " 18  Placa                   8936 non-null   object        \n",
      " 19  Num Tarjeta             8936 non-null   int64         \n",
      " 20  Num Serie               8936 non-null   object        \n",
      " 21  Fecha Transacción       8936 non-null   object        \n",
      " 22  Hora Transacción        8936 non-null   object        \n",
      " 23  No Comprobante          8936 non-null   object        \n",
      " 24  Id Mercancía            8936 non-null   object        \n",
      " 25  Mercancía               8936 non-null   object        \n",
      " 26  Km Ant Transacción      8910 non-null   float64       \n",
      " 27  Km Transacción          8936 non-null   int64         \n",
      " 28  Recorrido               8910 non-null   float64       \n",
      " 29  Importe Neto            8936 non-null   float64       \n",
      " 30  IVA                     8936 non-null   float64       \n",
      " 31  IVA %                   8936 non-null   int64         \n",
      " 32  IEPS                    8936 non-null   float64       \n",
      " 33  Importe Transacción     8936 non-null   float64       \n",
      " 34  Importe Transacción.1   8936 non-null   float64       \n",
      " 35  Comision                8936 non-null   float64       \n",
      " 36  Subtotal                8936 non-null   float64       \n",
      " 37  Cantidad Mercancía      8936 non-null   float64       \n",
      " 38  KG C02                  8936 non-null   float64       \n",
      " 39  TON C02                 8936 non-null   float64       \n",
      " 40  Arboles                 8936 non-null   float64       \n",
      " 41  Precio Unitario         8936 non-null   float64       \n",
      " 42  Rendimiento             8936 non-null   int64         \n",
      " 43  Rendimiento Real        8936 non-null   float64       \n",
      " 44  Id Conductor            8746 non-null   float64       \n",
      " 45  Conductor               8921 non-null   object        \n",
      " 46  No Estación Pemex       8936 non-null   object        \n",
      " 47  Razón Social Afiliado   8936 non-null   object        \n",
      " 48  RFC                     8936 non-null   object        \n",
      " 49  Número de Control       8936 non-null   object        \n",
      " 50  Folio                   8754 non-null   float64       \n",
      " 51  Observación             7935 non-null   object        \n",
      " 52  Respuesta               8827 non-null   object        \n",
      " 53  Unnamed: 53             1420 non-null   object        \n",
      "dtypes: datetime64[ns](1), float64(17), int64(4), object(32)\n",
      "memory usage: 3.7+ MB\n"
     ]
    }
   ],
   "source": [
    "edenred_df_24.info()"
   ]
  },
  {
   "cell_type": "code",
   "execution_count": 11,
   "metadata": {},
   "outputs": [],
   "source": [
    "def find_common_and_unique_columns(df_list):\n",
    "    columns = [df.columns for df in df_list]\n",
    "\n",
    "    # Find the common columns\n",
    "    common_columns = set(columns[0]).intersection(*columns[1:])\n",
    "    print(\"Common columns:\", common_columns)\n",
    "\n",
    "    # Find the unique columns in each dataframe using the columns list and common columns\n",
    "    unique_columns = [set(col) - common_columns for col in columns]\n",
    "\n",
    "    for i, unique in enumerate(unique_columns):\n",
    "        print(f\"Unique columns in edenred_df_{21 + i}:\", unique)"
   ]
  },
  {
   "cell_type": "code",
   "execution_count": 12,
   "metadata": {},
   "outputs": [
    {
     "name": "stdout",
     "output_type": "stream",
     "text": [
      "Common columns: {'Importe Neto', 'Número de Control', 'Respuesta', 'Num Serie', 'Placa', 'Rendimiento Real', 'No Estación Pemex', 'Serie', 'No Comprobante', 'Arboles', 'Razón Social Afiliado', 'BL', 'TON C02', 'Recorrido', 'Rendimiento', 'Identificador Vehículo', 'Precio Unitario', 'Hora Transacción', 'Id Región', 'Km Ant Transacción', 'Subtotal', 'Observación', 'Factura', 'Division', 'Mercancía', 'Importe Transacción', 'Month', 'Num Tarjeta', 'IEPS', 'Comision', 'Id Conductor', 'IVA', 'Cantidad Mercancía', 'KG C02', 'Conductor', 'Vehículo', 'Km Transacción', 'Cliente', 'IVA %', 'Folio', 'Fecha Transacción', 'RFC', 'Id Grupo Región', 'Id Mercancía'}\n",
      "Unique columns in edenred_df_21: {'AC', 'VALID', 'Serie.1', 'No. Economico', 'Old BL', 'AU', 'CONCATENATE', 'Sub BL', 'Estado de Carga', 'Locacion'}\n",
      "Unique columns in edenred_df_22: {'CC', 'BL 2 ', 'No Economico', 'PO', 'GR', 'Grupo de Región ', 'VIN Number', 'Estado', 'SUB BL'}\n",
      "Unique columns in edenred_df_23: {'BL2', 'CC', 'No Economico', 'PO', 'GR', 'Grupo de Región ', 'VIN NUMBER', 'Estado', 'SUB BL'}\n",
      "Unique columns in edenred_df_24: {'BL2', 'CC', 'No Economico', 'Importe Transacción.1', 'PO', 'GR', 'Grupo de Región ', 'VIN NUMBER', 'Unnamed: 53', 'SUB BL'}\n"
     ]
    }
   ],
   "source": [
    "find_common_and_unique_columns(edenred_df_list)"
   ]
  },
  {
   "cell_type": "code",
   "execution_count": 13,
   "metadata": {},
   "outputs": [],
   "source": [
    "columns_renamed_21 = {\n",
    "    'Serie.1': 'VIN NUMBER',\n",
    "    'Estado de Carga': 'Estado',\n",
    "    'No. Economico': 'No Economico',\n",
    "    'Sub BL' : 'SUB BL',\n",
    "    'Locacion' : 'Grupo de Región',\n",
    "    'Old BL' : 'BL2',\n",
    "}\n",
    "\n",
    "columns_renamed_22 = {\n",
    "    'VIN Number': 'VIN NUMBER',\n",
    "    'Grupo de Región ' : 'Grupo de Región',\n",
    "    'BL 2 ' : 'BL2'\n",
    "    \n",
    "}\n",
    "\n",
    "columns_renamed_23 = {\n",
    "    'Grupo de Región ' : 'Grupo de Región'\n",
    "}\n",
    "\n",
    "columns_renamed_24 = {\n",
    "    'Grupo de Región ' : 'Grupo de Región'\n",
    "}"
   ]
  },
  {
   "cell_type": "code",
   "execution_count": 14,
   "metadata": {},
   "outputs": [],
   "source": [
    "edenred_clean_df_21 = edenred_df_21.rename(columns=columns_renamed_21)\n",
    "edenred_clean_df_21 = edenred_clean_df_21.drop(columns=['CONCATENATE', 'VALID']) # La distribicuion de la columna es identica a la columna 'Importe Transacción'\n",
    "\n",
    "edenred_clean_df_22 = edenred_df_22.rename(columns=columns_renamed_22)\n",
    "\n",
    "edenred_clean_df_23 = edenred_df_23.rename(columns=columns_renamed_23)\n",
    "\n",
    "edenred_clean_df_24 = edenred_df_24.rename(columns=columns_renamed_24)\n",
    "edenred_clean_df_24 = edenred_clean_df_24.drop(columns=['Importe Transacción.1', 'Unnamed: 53']) # La distribicuion de la columna es identica a la columna 'Importe Transacción'\n",
    "\n",
    "edenred_clean_df_list = [edenred_clean_df_21, edenred_clean_df_22, edenred_clean_df_23, edenred_clean_df_24]"
   ]
  },
  {
   "cell_type": "code",
   "execution_count": 15,
   "metadata": {},
   "outputs": [
    {
     "name": "stdout",
     "output_type": "stream",
     "text": [
      "Common columns: {'Importe Neto', 'Número de Control', 'Respuesta', 'Grupo de Región', 'Num Serie', 'Placa', 'Rendimiento Real', 'No Estación Pemex', 'Serie', 'No Comprobante', 'Arboles', 'Razón Social Afiliado', 'SUB BL', 'BL', 'TON C02', 'Recorrido', 'Rendimiento', 'Identificador Vehículo', 'Precio Unitario', 'Hora Transacción', 'Id Región', 'Km Ant Transacción', 'Subtotal', 'Observación', 'Factura', 'Division', 'Mercancía', 'Importe Transacción', 'Month', 'Num Tarjeta', 'IEPS', 'Comision', 'Id Conductor', 'IVA', 'Cantidad Mercancía', 'KG C02', 'No Economico', 'Conductor', 'Vehículo', 'Km Transacción', 'Cliente', 'BL2', 'IVA %', 'Folio', 'Fecha Transacción', 'RFC', 'Id Grupo Región', 'VIN NUMBER', 'Id Mercancía'}\n",
      "Unique columns in edenred_df_21: {'AC', 'AU', 'Estado'}\n",
      "Unique columns in edenred_df_22: {'Estado', 'PO', 'CC', 'GR'}\n",
      "Unique columns in edenred_df_23: {'Estado', 'PO', 'CC', 'GR'}\n",
      "Unique columns in edenred_df_24: {'PO', 'CC', 'GR'}\n"
     ]
    }
   ],
   "source": [
    "find_common_and_unique_columns(edenred_clean_df_list)"
   ]
  },
  {
   "cell_type": "code",
   "execution_count": null,
   "metadata": {},
   "outputs": [],
   "source": [
    "years = [2021, 2022, 2023, 2024]\n",
    "\n",
    "for year, df in zip(years, edenred_clean_df_list):\n",
    "    df['Year'] = year\n",
    "\n",
    "edenred_df = pd.concat(edenred_clean_df_list, ignore_index=True)"
   ]
  },
  {
   "cell_type": "code",
   "execution_count": 21,
   "metadata": {},
   "outputs": [],
   "source": [
    "# for column in edenred_df:\n",
    "#     print('-------------------------')\n",
    "#     print(f'Column: {column}')\n",
    "#     if edenred_df[column].nunique() >= 100:\n",
    "#         print(edenred_df[column].value_counts().head(10))\n",
    "#     else:\n",
    "#         print(edenred_df[column].value_counts())"
   ]
  },
  {
   "cell_type": "code",
   "execution_count": 24,
   "metadata": {},
   "outputs": [
    {
     "data": {
      "text/plain": [
       "['KG C02', 'TON C02']"
      ]
     },
     "execution_count": 24,
     "metadata": {},
     "output_type": "execute_result"
    }
   ],
   "source": [
    "[column for column in edenred_df if 'C02' in column]"
   ]
  },
  {
   "cell_type": "code",
   "execution_count": 25,
   "metadata": {},
   "outputs": [],
   "source": [
    "edenred_df.to_csv('../data/processed/edenred.csv', index=False)"
   ]
  },
  {
   "cell_type": "code",
   "execution_count": null,
   "metadata": {},
   "outputs": [],
   "source": []
  }
 ],
 "metadata": {
  "kernelspec": {
   "display_name": "topology",
   "language": "python",
   "name": "python3"
  },
  "language_info": {
   "codemirror_mode": {
    "name": "ipython",
    "version": 3
   },
   "file_extension": ".py",
   "mimetype": "text/x-python",
   "name": "python",
   "nbconvert_exporter": "python",
   "pygments_lexer": "ipython3",
   "version": "3.12.9"
  }
 },
 "nbformat": 4,
 "nbformat_minor": 2
}
